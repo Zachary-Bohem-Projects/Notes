{
 "metadata": {
  "language_info": {
   "codemirror_mode": {
    "name": "ipython",
    "version": 3
   },
   "file_extension": ".py",
   "mimetype": "text/x-python",
   "name": "python",
   "nbconvert_exporter": "python",
   "pygments_lexer": "ipython3",
   "version": "3.9.5"
  },
  "orig_nbformat": 4,
  "kernelspec": {
   "name": "python3",
   "display_name": "Python 3.9.5 64-bit"
  },
  "interpreter": {
   "hash": "d61d66f38fba2d6d1ec0cc24f1f53324a6310368a2714d3ddae406a0a15f0c6e"
  }
 },
 "nbformat": 4,
 "nbformat_minor": 2,
 "cells": [
  {
   "source": [
    "# Jupyter Notebooks\n",
    "___\n",
    "Jupyter notebooks are a combination of markdown text and scripts.\n",
    "The files are split into what are called _Cells_. These cells can either be markdown text like this one, or they can be scripts that have the results shown below them."
   ],
   "cell_type": "markdown",
   "metadata": {}
  },
  {
   "source": [
    "An example of the script cell can be found below. The script cells are great for showing off snippets of code and having the results be visible to who ever reads the notebook. Jupyter Notebook was originally created for python, but has recently adopted other languages like C#.\n",
    "\n",
    "### Example _(In Python)_\n",
    "\n",
    "``` Python\n",
    "    print(\"Hello World\")\n",
    "```"
   ],
   "cell_type": "markdown",
   "metadata": {}
  },
  {
   "cell_type": "code",
   "execution_count": 2,
   "metadata": {},
   "outputs": [
    {
     "output_type": "stream",
     "name": "stdout",
     "text": [
      "Hello World\n"
     ]
    }
   ],
   "source": [
    "print(\"Hello World\")"
   ]
  }
 ]
}